{
 "cells": [
  {
   "cell_type": "code",
   "execution_count": null,
   "metadata": {},
   "outputs": [],
   "source": [
    "import tensorflow as tf\n",
    "from tensorflow.keras.models import Sequential\n",
    "from tensorflow.keras.layers import Dense,Dropout,Activation,Flatten,Conv2D,MaxPooling2D\n",
    "from tensorflow.keras.callbacks import TensorBoard\n",
    "import pickle"
   ]
  },
  {
   "cell_type": "code",
   "execution_count": 55,
   "metadata": {},
   "outputs": [],
   "source": [
    "x = pickle.load(open('x.pickle','rb'))\n",
    "y = pickle.load(open('y.pickle','rb'))\n",
    "\n",
    "x = x/255 # you can also use tf.keras.utils.normalize\n",
    "y = np.array(y)\n"
   ]
  },
  {
   "cell_type": "code",
   "execution_count": null,
   "metadata": {},
   "outputs": [],
   "source": [
    "y[5],x[5]"
   ]
  },
  {
   "cell_type": "code",
   "execution_count": 57,
   "metadata": {},
   "outputs": [
    {
     "name": "stdout",
     "output_type": "stream",
     "text": [
      "Epoch 1/10\n",
      "31/31 [==============================] - 27s 831ms/step - loss: 0.8836 - accuracy: 0.4980 - val_loss: 0.6930 - val_accuracy: 0.4818\n",
      "Epoch 2/10\n",
      "31/31 [==============================] - 25s 801ms/step - loss: 0.6912 - accuracy: 0.5364 - val_loss: 0.6844 - val_accuracy: 0.6000\n",
      "Epoch 3/10\n",
      "31/31 [==============================] - 25s 797ms/step - loss: 0.6679 - accuracy: 0.6071 - val_loss: 0.6671 - val_accuracy: 0.5818\n",
      "Epoch 4/10\n",
      "31/31 [==============================] - 25s 797ms/step - loss: 0.6168 - accuracy: 0.6717 - val_loss: 0.6336 - val_accuracy: 0.6273\n",
      "Epoch 5/10\n",
      "31/31 [==============================] - 24s 791ms/step - loss: 0.5403 - accuracy: 0.7384 - val_loss: 0.7944 - val_accuracy: 0.5727\n",
      "Epoch 6/10\n",
      "31/31 [==============================] - 33s 1s/step - loss: 0.4806 - accuracy: 0.7697 - val_loss: 0.7153 - val_accuracy: 0.6091\n",
      "Epoch 7/10\n",
      "31/31 [==============================] - 27s 843ms/step - loss: 0.3942 - accuracy: 0.8293 - val_loss: 0.7521 - val_accuracy: 0.6545\n",
      "Epoch 8/10\n",
      "31/31 [==============================] - 40s 1s/step - loss: 0.3163 - accuracy: 0.8687 - val_loss: 0.8264 - val_accuracy: 0.6182\n",
      "Epoch 9/10\n",
      "31/31 [==============================] - 24s 788ms/step - loss: 0.2488 - accuracy: 0.9040 - val_loss: 0.7921 - val_accuracy: 0.6455\n",
      "Epoch 10/10\n",
      "31/31 [==============================] - 37s 1s/step - loss: 0.1878 - accuracy: 0.9253 - val_loss: 0.9919 - val_accuracy: 0.6091\n"
     ]
    },
    {
     "data": {
      "text/plain": [
       "<keras.callbacks.History at 0x275b3d472e0>"
      ]
     },
     "execution_count": 57,
     "metadata": {},
     "output_type": "execute_result"
    }
   ],
   "source": [
    "model = Sequential()\n",
    "\n",
    "model.add(Conv2D(64, (3,3),input_shape = x.shape[1:]))\n",
    "model.add(Activation('relu'))\n",
    "model.add(MaxPooling2D(pool_size=(2,2)))\n",
    "\n",
    "model.add(Conv2D(64, (3,3)))\n",
    "model.add(Activation('relu'))\n",
    "model.add(MaxPooling2D(pool_size=(2,2)))\n",
    "\n",
    "model.add(Flatten())\n",
    "model.add(Dense(64))\n",
    "model.add(Activation('relu'))\n",
    "\n",
    "model.add(Dense(1))\n",
    "model.add(Activation('sigmoid'))\n",
    "\n",
    "model.compile(loss=\"binary_crossentropy\",optimizer=\"adam\",metrics=[\"accuracy\"])\n",
    "model.fit(x,y,batch_size=32,epochs=10, validation_split=0.1)"
   ]
  },
  {
   "cell_type": "code",
   "execution_count": 41,
   "metadata": {},
   "outputs": [
    {
     "name": "stdout",
     "output_type": "stream",
     "text": [
      "35/35 [==============================] - 2s 60ms/step\n"
     ]
    }
   ],
   "source": [
    "predictions = model.predict(x)"
   ]
  },
  {
   "cell_type": "code",
   "execution_count": 52,
   "metadata": {},
   "outputs": [
    {
     "name": "stdout",
     "output_type": "stream",
     "text": [
      "0\n"
     ]
    },
    {
     "data": {
      "image/png": "[encoded data removed]",
      "text/plain": [
       "<Figure size 640x480 with 1 Axes>"
      ]
     },
     "metadata": {},
     "output_type": "display_data"
    }
   ],
   "source": [
    "print(np.argmax(predictions[5]))\n",
    "import matplotlib.pyplot as plt\n",
    "plt.imshow(x[5],cmap=plt.cm.binary)\n",
    "plt.show()"
   ]
  }
 ],
 "metadata": {
  "kernelspec": {
   "display_name": "Python 3",
   "language": "python",
   "name": "python3"
  },
  "language_info": {
   "codemirror_mode": {
    "name": "ipython",
    "version": 3
   },
   "file_extension": ".py",
   "mimetype": "text/x-python",
   "name": "python",
   "nbconvert_exporter": "python",
   "pygments_lexer": "ipython3",
   "version": "3.10.1"
  },
  "orig_nbformat": 4
 },
 "nbformat": 4,
 "nbformat_minor": 2
}
